{
 "cells": [
  {
   "cell_type": "markdown",
   "metadata": {
    "colab_type": "text",
    "id": "FpMYK1xZLWmH"
   },
   "source": [
    "# Recherche d'Information et traitement de données massives\n",
    "\n",
    "# Lab 1 : Indexation : représentation d'un document et d'un corpus\n",
    "\n",
    "\n",
    "L'objectif de cette séance est de mettre en oeuvre les premiers concepts clés de la **Recherche d'Information** que sont l'indexation et l'index inversé. Nous travaillerons sur la collection [TIME](http://ir.dcs.gla.ac.uk/resources/test_collections/time/). Cette collection est une petite collection qui est constituée d'articles du magazine TIME et qui est disponible dans le repertoire [Data](./Data/Time). Plus précisemment, cette collection est constituée des fichiers suivants :\n",
    "+ Le fichier [TIME.ALL](./Data/Time/TIME.ALL) qui contient l'ensemble des articles sous la forme d'un seul fichier texte. Chaque article est identifié dans le fichier par une chaine de caractères du type `*TEXT XXX PAGE XXX`. Le fichier commence avec la chaîne de caractères `*TEXT 017 01/04/63 PAGE 020` et le dernier article correspond à la chaine de caractères `*TEXT 563 12/27/63 PAGE 024`. Le chaîne de caractères `*STOP` indique  la fin du fichier. La collection contient en tout 423 articles. Dans la suite, les documents seront identifiés par un identifiant unique qui est le numero présent dans la chaîne `*TEXT XXX PAGE XXX`. Par exemple, l'article préfixé par `*TEXT 563 12/27/63 PAGE 024` aura comme identifiant `563`\n",
    "+ Le fichier [TIME.QUE](./Data/Time/TIME.QUE) qui contient un ensemble de requêtes exprimées en langage naturel. Chaque requête est identifiée dans le fichier par la chaîne de caractères ` *FIND      ID`\n",
    "+ Le fichier [TIME.REL](./Data/Time/TIME.REL) qui contient les jugements de pertinence exaustifs pour chaque requête. Par exemple la ligne `1  268 288 304 308 323 326 334` doit être interprétée de la manière suivante : les documents pertinents de la collection pour la requête `1` sont les documents `268 288 304 308 323 32` et `334` \n",
    "+ Le fichier [TIME.STP](./Data/Time/TIME.STP) est une liste des stop-words à considérer dans cette collection.\n",
    "\n",
    "\n",
    "\n",
    "### Etape 1 : Prise en main des données\n",
    "\n",
    "Dans un premier temps, le travail consistera en une prise en main des données. En particulier, il s'agira de lire le fichier [TIME.ALL](./Data/Time/TIME.ALL) et de stocker la collection sous la forme d'un dictionnaire python (`dict`) avec comme **clé** l'identifiant unique de chaque article et en **valeur** une liste (`list`) des tokens de chaque article. Pour l'étape de segmentation (ou *tokenization*), on considerera les espaces et les caractères de ponctuation comme séparateurs et on fera appel à la bibliothèque [nltk](https://www.nltk.org) et en particulier à son module [tokenize](https://www.nltk.org/api/nltk.tokenize.html). La commande ci-dessous vous permet d'installer cette bibliothèque."
   ]
  },
  {
   "cell_type": "code",
   "execution_count": 1,
   "metadata": {
    "colab": {
     "base_uri": "https://localhost:8080/",
     "height": 52
    },
    "colab_type": "code",
    "executionInfo": {
     "elapsed": 5628,
     "status": "ok",
     "timestamp": 1557235900720,
     "user": {
      "displayName": "Tami Myriam",
      "photoUrl": "",
      "userId": "04534705195482337784"
     },
     "user_tz": -120
    },
    "id": "eoWnetcqLWmL",
    "outputId": "af0501da-a5c0-404c-e7fc-bea10995fe3f"
   },
   "outputs": [
    {
     "name": "stdout",
     "output_type": "stream",
     "text": [
      "Requirement already satisfied: nltk in c:\\programdata\\anaconda3\\lib\\site-packages (3.4)\n",
      "Requirement already satisfied: six in c:\\users\\menoci\\appdata\\roaming\\python\\python37\\site-packages (from nltk) (1.12.0)\n",
      "Requirement already satisfied: singledispatch in c:\\programdata\\anaconda3\\lib\\site-packages (from nltk) (3.4.0.3)\n"
     ]
    }
   ],
   "source": [
    "!pip install nltk"
   ]
  },
  {
   "cell_type": "markdown",
   "metadata": {
    "colab_type": "text",
    "id": "r-R7Ey38LWmW"
   },
   "source": [
    "Importer la bibliothèque nltk et télécharger les jeux de données et modules nécéssaires pour le traitement du langage naturel en executant les deux commandes ci-dessous. "
   ]
  },
  {
   "cell_type": "code",
   "execution_count": 80,
   "metadata": {
    "colab": {
     "base_uri": "https://localhost:8080/",
     "height": 124
    },
    "colab_type": "code",
    "id": "RFhukdAALWmY",
    "outputId": "f3f88fe6-ceba-4cdc-ce03-023171070091"
   },
   "outputs": [
    {
     "name": "stdout",
     "output_type": "stream",
     "text": [
      "showing info https://raw.githubusercontent.com/nltk/nltk_data/gh-pages/index.xml\n"
     ]
    },
    {
     "data": {
      "text/plain": [
       "True"
      ]
     },
     "execution_count": 80,
     "metadata": {},
     "output_type": "execute_result"
    }
   ],
   "source": [
    "import nltk\n",
    "nltk.download()"
   ]
  },
  {
   "cell_type": "markdown",
   "metadata": {
    "colab_type": "text",
    "id": "DWXzDmwZLWmf"
   },
   "source": [
    "#### Lecture des données\n",
    "\n",
    "Ecrire une fonction `loadData(filename)` qui charge le fichier [TIME.ALL](./Data/Time/TIME.ALL), stocke et retourne son contenu sous la forme d'un dictionnaire python (`dict`) avec comme **clé** l'identifiant unique de chaque article et en **valeur** le contenu de l'article sous la forme d'une chaine de caractères. Pour rappel, nous prendrons comme identifiant le numéro indiqué dans le fichier. \n",
    "\n",
    "Par exemple, l'article préfixé par `*TEXT 563 12/27/63 PAGE 024` aura comme identifiant `563`. Il y a parfois des trous dans la numérotation. \n",
    "\n",
    "Pour faire cela, il vous faudra donc parser votre fichier en prenant en compte sa structure décrite ci-dessous. Vous pourrez par exemple utiliser des [expressions régulières](https://docs.python.org/3/library/re.html) pour détecter la fin du corpus ou le début d'un nouvel article. Une bon tutoriel concernant les expressions régulières est disponible [ici](https://www.xavierdupre.fr/app/teachpyx/helpsphinx/c_regex/regex.html). \n"
   ]
  },
  {
   "cell_type": "code",
   "execution_count": null,
   "metadata": {},
   "outputs": [],
   "source": []
  },
  {
   "cell_type": "code",
   "execution_count": null,
   "metadata": {},
   "outputs": [],
   "source": []
  },
  {
   "cell_type": "code",
   "execution_count": 81,
   "metadata": {
    "colab": {},
    "colab_type": "code",
    "id": "HWxIJi5PLWmg"
   },
   "outputs": [],
   "source": [
    "\n",
    "def loadData(filename):\n",
    "    with open(filename, 'r') as f:\n",
    "        corpus = {}\n",
    "        lines = f.readlines()\n",
    "        for line in lines:\n",
    "            line = line.strip()\n",
    "            line = line.split()\n",
    "            if '*TEXT' in line:\n",
    "                key = line[1]\n",
    "                #print(key)\n",
    "            else:\n",
    "                if line != [] and ('*STOP' not in line):\n",
    "                    if key in corpus:\n",
    "                        corpus[key] += ' '.join(line)\n",
    "                    else:\n",
    "                        corpus[key] = ' '.join(line)\n",
    "        return(corpus)\n",
    "    \n",
    "    "
   ]
  },
  {
   "cell_type": "code",
   "execution_count": null,
   "metadata": {},
   "outputs": [],
   "source": [
    "\n",
    "    "
   ]
  },
  {
   "cell_type": "markdown",
   "metadata": {
    "colab_type": "text",
    "id": "kWn1wT2QLWml"
   },
   "source": [
    "Appliquer et tester votre fonction au fichier [TIME.ALL](./Data/Time/TIME.ALL) en executant le code ci-dessous."
   ]
  },
  {
   "cell_type": "code",
   "execution_count": 82,
   "metadata": {},
   "outputs": [],
   "source": [
    "corpus = loadData('./Data/Time/TIME.ALL')"
   ]
  },
  {
   "cell_type": "code",
   "execution_count": null,
   "metadata": {},
   "outputs": [],
   "source": []
  },
  {
   "cell_type": "code",
   "execution_count": null,
   "metadata": {},
   "outputs": [],
   "source": []
  },
  {
   "cell_type": "code",
   "execution_count": 83,
   "metadata": {
    "colab": {},
    "colab_type": "code",
    "id": "jOA3ChWOLWmm",
    "outputId": "fed85f27-f911-4f44-c6db-6f905e6933fe"
   },
   "outputs": [
    {
     "name": "stdout",
     "output_type": "stream",
     "text": [
      "True\n"
     ]
    }
   ],
   "source": [
    "corpus = loadData('./Data/Time/TIME.ALL')\n",
    "\n",
    "print(corpus['563'] == 'UNITED NATIONS POTENT PYGMY IN MANHATTAN LAST WEEK, THE U.N .GREW TO A TOTAL OF 113 MEMBERS WITH THE ADMISSION OF THE NEWLYINDEPENDENT STATES OF ZANZIBAR AND KENYA . ZANZIBAR CONSISTS OF TWOSMALL ISLANDS IN THE INDIAN OCEAN, WITH A TOTAL POPULATION OF 310,000,OR ABOUT THAT OF OMAHA . NEVERTHELESS, ZANZIBAR HAS ONE VOTE IN THEGENERAL ASSEMBLY, AND IS THUS EQUAL IN VOTING POWER WITH SUCH NUCLEARGIANTS AS THE SOVIET UNION AND THE U.S .')"
   ]
  },
  {
   "cell_type": "markdown",
   "metadata": {
    "colab_type": "text",
    "id": "1pQWEg2aLWmr"
   },
   "source": [
    "### Etape 2 : extraction du vocabulaire d'indexation.\n",
    "\n",
    "Dans cette étape, vous allez mettre en oeuvre la chaîne de traitements vue dans le cours 1 et rappelée sur la figure ci-dessous.\n",
    "\n",
    "<img src=\"./Images/indexationschema.png\" width=\"500\" height=\"500\" />\n",
    "\n",
    "Il s'agira donc de mettre en oeuvre les étapes suivantes :\n",
    "   + 1. Segmentation d'un texte en mots (étape de tokenization).\n",
    "   + 2. Filtrage des mots vides.\n",
    "   + 3. Lemmatisation ou Racinisation des termes.\n",
    "   + 4. Extraction des mots uniques\n",
    "\n",
    "**Différentes approches seront testées pour plusieurs de ces étapes.**\n"
   ]
  },
  {
   "cell_type": "code",
   "execution_count": null,
   "metadata": {},
   "outputs": [],
   "source": []
  },
  {
   "cell_type": "markdown",
   "metadata": {
    "colab_type": "text",
    "id": "Tz964qo2LWms"
   },
   "source": [
    "#### 1 . Segmentation d'un texte en mots\n",
    "\n",
    "Vous allez maintenant écrire un programme permettant de segmenter un article en mots ou tokens. On considèrera que l'article est fourni sous la forme d'une chaîne de caractères `text`. On testera ici différentes approches de segmentation dont :\n",
    " + une approche simple avec la méthode [`split()`](https://www.w3schools.com/python/ref_string_split.asp) de python.\n",
    " + l'approche de segmentation en mots avec la fonction [`word_tokenize()`](https://pythonspot.com/tokenizing-words-and-sentences-with-nltk/) de la bibliothèque nltk.\n",
    " + une autre approche de segmentation que vous choisirez parmi les approches disponibles dans la bibliothèque [ntlk](https://www.nltk.org/api/nltk.tokenize.html). Par exemple, le `RegexpTokenizer` qui se base sur les expressions régulières peut être intéressant pour détecter les dates ou nombres dans les articles.\n",
    "\n",
    "Dans tous les cas, vos fonctions `article_tokenize_simple(text)`, `article_word_tokenize(text)` et `article_tokenize_other(text)`prendront en paramètres une chaine de caractères `text` et retourneront la liste des mots (ou *tokens*) de la chaîne `text`.\n",
    "\n",
    "Nous considérerons qu'une bonne segmentation :\n",
    " + ne considérera pas les caractères de ponctuations comme des mots;\n",
    " + permettra de récupérer les dates ou les chiffres;\n",
    " + permettra de garder les abbréviations d'interêt type `U.S`.\n",
    "\n",
    "\n",
    "Selon la méthode de segmentation utilisée, l'amélioration de la segmentation pourra être fait a posteriori par exemple avec du filtrage.\n",
    "\n",
    "**Approche de segmentation simple**"
   ]
  },
  {
   "cell_type": "code",
   "execution_count": null,
   "metadata": {},
   "outputs": [],
   "source": []
  },
  {
   "cell_type": "code",
   "execution_count": 84,
   "metadata": {
    "colab": {},
    "colab_type": "code",
    "id": "jZGQDARnLWmu",
    "outputId": "6a15899e-4df9-4298-f3cf-991fb3435c57"
   },
   "outputs": [],
   "source": [
    "def article_tokenize_simple(text):\n",
    "    if type(text)!= str:\n",
    "        raise Exception(\"The function takes a string as input data\")\n",
    "    else:\n",
    "        ignore = ['.']\n",
    "        text = text.split()\n",
    "        tokens = []\n",
    "        for word in text:\n",
    "            if word not in ignore:\n",
    "                tokens.append(word)\n",
    "        tokens = list(set(tokens))\n",
    "        return tokens\n",
    "        "
   ]
  },
  {
   "cell_type": "markdown",
   "metadata": {},
   "source": [
    "Tester votre méthode sur l'article donné ci-dessous."
   ]
  },
  {
   "cell_type": "code",
   "execution_count": 85,
   "metadata": {},
   "outputs": [
    {
     "data": {
      "text/plain": [
       "['VOTING',\n",
       " 'STATES',\n",
       " 'KENYA',\n",
       " 'UNION',\n",
       " 'U.N',\n",
       " 'ASSEMBLY,',\n",
       " 'LAST',\n",
       " 'UNITED',\n",
       " 'A',\n",
       " 'THAT',\n",
       " 'TWOSMALL',\n",
       " 'AS',\n",
       " 'NUCLEARGIANTS',\n",
       " 'ABOUT',\n",
       " 'SUCH',\n",
       " '113',\n",
       " 'IN',\n",
       " 'MANHATTAN',\n",
       " 'ISLANDS',\n",
       " 'NEWLYINDEPENDENT',\n",
       " 'ONE',\n",
       " 'IS',\n",
       " 'EQUAL',\n",
       " 'THEGENERAL',\n",
       " '310,000,OR',\n",
       " 'CONSISTS',\n",
       " 'U.S',\n",
       " 'WITH',\n",
       " 'POTENT',\n",
       " 'AND',\n",
       " 'OMAHA',\n",
       " 'THE',\n",
       " 'POWER',\n",
       " 'VOTE',\n",
       " 'TO',\n",
       " 'OF',\n",
       " '.GREW',\n",
       " 'POPULATION',\n",
       " 'SOVIET',\n",
       " 'PYGMY',\n",
       " 'TOTAL',\n",
       " 'NATIONS',\n",
       " 'ADMISSION',\n",
       " 'MEMBERS',\n",
       " 'INDIAN',\n",
       " 'ZANZIBAR',\n",
       " 'OCEAN,',\n",
       " 'HAS',\n",
       " 'WEEK,',\n",
       " 'THUS',\n",
       " 'NEVERTHELESS,']"
      ]
     },
     "execution_count": 85,
     "metadata": {},
     "output_type": "execute_result"
    }
   ],
   "source": [
    "text = 'UNITED NATIONS POTENT PYGMY IN MANHATTAN LAST WEEK, THE U.N .GREW TO A TOTAL OF 113 MEMBERS WITH THE ADMISSION OF THE NEWLYINDEPENDENT STATES OF ZANZIBAR AND KENYA . ZANZIBAR CONSISTS OF TWOSMALL ISLANDS IN THE INDIAN OCEAN, WITH A TOTAL POPULATION OF 310,000,OR ABOUT THAT OF OMAHA . NEVERTHELESS, ZANZIBAR HAS ONE VOTE IN THEGENERAL ASSEMBLY, AND IS THUS EQUAL IN VOTING POWER WITH SUCH NUCLEARGIANTS AS THE SOVIET UNION AND THE U.S .'\n",
    " \n",
    "article_tokenize_simple(text)"
   ]
  },
  {
   "cell_type": "markdown",
   "metadata": {},
   "source": [
    "**Approche de segmentation avec avec la fonction `word_tokenize()`**"
   ]
  },
  {
   "cell_type": "code",
   "execution_count": 86,
   "metadata": {},
   "outputs": [],
   "source": [
    "from nltk.tokenize import word_tokenize\n",
    "\n",
    "def article_word_tokenize(text):\n",
    "    if type(text)!= str:\n",
    "        raise Exception(\"The function takes a string as input data\")\n",
    "    else:\n",
    "        tokens = word_tokenize(text)\n",
    "        return tokens\n"
   ]
  },
  {
   "cell_type": "markdown",
   "metadata": {},
   "source": [
    "Tester votre méthode sur l'article donné ci-dessous."
   ]
  },
  {
   "cell_type": "code",
   "execution_count": 87,
   "metadata": {},
   "outputs": [
    {
     "data": {
      "text/plain": [
       "['UNITED',\n",
       " 'NATIONS',\n",
       " 'POTENT',\n",
       " 'PYGMY',\n",
       " 'IN',\n",
       " 'MANHATTAN',\n",
       " 'LAST',\n",
       " 'WEEK',\n",
       " ',',\n",
       " 'THE',\n",
       " 'U.N',\n",
       " '.GREW',\n",
       " 'TO',\n",
       " 'A',\n",
       " 'TOTAL',\n",
       " 'OF',\n",
       " '113',\n",
       " 'MEMBERS',\n",
       " 'WITH',\n",
       " 'THE',\n",
       " 'ADMISSION',\n",
       " 'OF',\n",
       " 'THE',\n",
       " 'NEWLYINDEPENDENT',\n",
       " 'STATES',\n",
       " 'OF',\n",
       " 'ZANZIBAR',\n",
       " 'AND',\n",
       " 'KENYA',\n",
       " '.',\n",
       " 'ZANZIBAR',\n",
       " 'CONSISTS',\n",
       " 'OF',\n",
       " 'TWOSMALL',\n",
       " 'ISLANDS',\n",
       " 'IN',\n",
       " 'THE',\n",
       " 'INDIAN',\n",
       " 'OCEAN',\n",
       " ',',\n",
       " 'WITH',\n",
       " 'A',\n",
       " 'TOTAL',\n",
       " 'POPULATION',\n",
       " 'OF',\n",
       " '310,000',\n",
       " ',',\n",
       " 'OR',\n",
       " 'ABOUT',\n",
       " 'THAT',\n",
       " 'OF',\n",
       " 'OMAHA',\n",
       " '.',\n",
       " 'NEVERTHELESS',\n",
       " ',',\n",
       " 'ZANZIBAR',\n",
       " 'HAS',\n",
       " 'ONE',\n",
       " 'VOTE',\n",
       " 'IN',\n",
       " 'THEGENERAL',\n",
       " 'ASSEMBLY',\n",
       " ',',\n",
       " 'AND',\n",
       " 'IS',\n",
       " 'THUS',\n",
       " 'EQUAL',\n",
       " 'IN',\n",
       " 'VOTING',\n",
       " 'POWER',\n",
       " 'WITH',\n",
       " 'SUCH',\n",
       " 'NUCLEARGIANTS',\n",
       " 'AS',\n",
       " 'THE',\n",
       " 'SOVIET',\n",
       " 'UNION',\n",
       " 'AND',\n",
       " 'THE',\n",
       " 'U.S',\n",
       " '.']"
      ]
     },
     "execution_count": 87,
     "metadata": {},
     "output_type": "execute_result"
    }
   ],
   "source": [
    "\n",
    "text = 'UNITED NATIONS POTENT PYGMY IN MANHATTAN LAST WEEK, THE U.N .GREW TO A TOTAL OF 113 MEMBERS WITH THE ADMISSION OF THE NEWLYINDEPENDENT STATES OF ZANZIBAR AND KENYA . ZANZIBAR CONSISTS OF TWOSMALL ISLANDS IN THE INDIAN OCEAN, WITH A TOTAL POPULATION OF 310,000,OR ABOUT THAT OF OMAHA . NEVERTHELESS, ZANZIBAR HAS ONE VOTE IN THEGENERAL ASSEMBLY, AND IS THUS EQUAL IN VOTING POWER WITH SUCH NUCLEARGIANTS AS THE SOVIET UNION AND THE U.S .'\n",
    " \n",
    "article_word_tokenize(text)"
   ]
  },
  {
   "cell_type": "markdown",
   "metadata": {},
   "source": [
    "**Approche de segmentation de votre choix**"
   ]
  },
  {
   "cell_type": "code",
   "execution_count": 90,
   "metadata": {},
   "outputs": [],
   "source": [
    "from nltk.tokenize import RegexpTokenizer\n",
    "def article_tokenize_other(text):\n",
    "    if type(text)!= str:\n",
    "        raise Exception(\"The function takes a string as input data\")\n",
    "    else:\n",
    "        tokenizer = RegexpTokenizer('\\w+|\\$[\\d\\.]+|\\S+')\n",
    "        tokens = tokenizer.tokenize(text)\n",
    "        return tokens"
   ]
  },
  {
   "cell_type": "markdown",
   "metadata": {},
   "source": [
    "Tester votre méthode sur l'article donné ci-dessous."
   ]
  },
  {
   "cell_type": "code",
   "execution_count": 91,
   "metadata": {},
   "outputs": [
    {
     "data": {
      "text/plain": [
       "['UNITED',\n",
       " 'NATIONS',\n",
       " 'POTENT',\n",
       " 'PYGMY',\n",
       " 'IN',\n",
       " 'MANHATTAN',\n",
       " 'LAST',\n",
       " 'WEEK',\n",
       " ',',\n",
       " 'THE',\n",
       " 'U',\n",
       " '.N',\n",
       " '.GREW',\n",
       " 'TO',\n",
       " 'A',\n",
       " 'TOTAL',\n",
       " 'OF',\n",
       " '113',\n",
       " 'MEMBERS',\n",
       " 'WITH',\n",
       " 'THE',\n",
       " 'ADMISSION',\n",
       " 'OF',\n",
       " 'THE',\n",
       " 'NEWLYINDEPENDENT',\n",
       " 'STATES',\n",
       " 'OF',\n",
       " 'ZANZIBAR',\n",
       " 'AND',\n",
       " 'KENYA',\n",
       " '.',\n",
       " 'ZANZIBAR',\n",
       " 'CONSISTS',\n",
       " 'OF',\n",
       " 'TWOSMALL',\n",
       " 'ISLANDS',\n",
       " 'IN',\n",
       " 'THE',\n",
       " 'INDIAN',\n",
       " 'OCEAN',\n",
       " ',',\n",
       " 'WITH',\n",
       " 'A',\n",
       " 'TOTAL',\n",
       " 'POPULATION',\n",
       " 'OF',\n",
       " '310',\n",
       " ',000,OR',\n",
       " 'ABOUT',\n",
       " 'THAT',\n",
       " 'OF',\n",
       " 'OMAHA',\n",
       " '.',\n",
       " 'NEVERTHELESS',\n",
       " ',',\n",
       " 'ZANZIBAR',\n",
       " 'HAS',\n",
       " 'ONE',\n",
       " 'VOTE',\n",
       " 'IN',\n",
       " 'THEGENERAL',\n",
       " 'ASSEMBLY',\n",
       " ',',\n",
       " 'AND',\n",
       " 'IS',\n",
       " 'THUS',\n",
       " 'EQUAL',\n",
       " 'IN',\n",
       " 'VOTING',\n",
       " 'POWER',\n",
       " 'WITH',\n",
       " 'SUCH',\n",
       " 'NUCLEARGIANTS',\n",
       " 'AS',\n",
       " 'THE',\n",
       " 'SOVIET',\n",
       " 'UNION',\n",
       " 'AND',\n",
       " 'THE',\n",
       " 'U',\n",
       " '.S',\n",
       " '.']"
      ]
     },
     "execution_count": 91,
     "metadata": {},
     "output_type": "execute_result"
    }
   ],
   "source": [
    "text = 'UNITED NATIONS POTENT PYGMY IN MANHATTAN LAST WEEK, THE U.N .GREW TO A TOTAL OF 113 MEMBERS WITH THE ADMISSION OF THE NEWLYINDEPENDENT STATES OF ZANZIBAR AND KENYA . ZANZIBAR CONSISTS OF TWOSMALL ISLANDS IN THE INDIAN OCEAN, WITH A TOTAL POPULATION OF 310,000,OR ABOUT THAT OF OMAHA . NEVERTHELESS, ZANZIBAR HAS ONE VOTE IN THEGENERAL ASSEMBLY, AND IS THUS EQUAL IN VOTING POWER WITH SUCH NUCLEARGIANTS AS THE SOVIET UNION AND THE U.S .'\n",
    " \n",
    "article_tokenize_other(text)"
   ]
  },
  {
   "cell_type": "markdown",
   "metadata": {},
   "source": [
    "**Segmentation de l'ensemble du corpus en mots**\n",
    "\n",
    "En appliquant vos différentes fonctions de segmentation sur différents exemples, vous devriez pouvoir effectuer une comparaison qualitative des différentes approches de segmentation et ainsi choisir la méthode de segmentation la plus appropriée pour le corpus TIME. \n",
    "Appliquer ensuite la méthode choisie à l'ensemble des documents du corpus.\n"
   ]
  },
  {
   "cell_type": "code",
   "execution_count": 20,
   "metadata": {},
   "outputs": [],
   "source": [
    "# a completer\n",
    "\n"
   ]
  },
  {
   "cell_type": "markdown",
   "metadata": {
    "colab_type": "text",
    "id": "1R3K4pNNLWm0"
   },
   "source": [
    "#### 2 . Filtrage des mots vides\n",
    "\n",
    "Ecrivez une fonction `article_remove_stop_words(text_tokens,stop_word_file)` qui prend en paramètres une liste de tokens, qui supprime les mots vides fournis dans un fichier de cette liste et renvoie la nouvelle liste résultant de ce filtrage. On procédera ici aussi de deux manière :\n",
    " + Dans une première approche, vous prendrez les mots vides fournis avec la collection dans le fichier [TIME.STP](./Data/TIME.STP).\n",
    " + Dans une deuxième approche, vous constituerez vous même votre liste de mots vides en prenant par exemples les n=200 mots les plus fréquents de la collection. Vous pourrez vous même décider d'un bon choix de n.\n",
    " \n"
   ]
  },
  {
   "cell_type": "code",
   "execution_count": 79,
   "metadata": {},
   "outputs": [],
   "source": [
    "def article_remove_stop_words(text_tokens,stop_word_file):\n",
    "    tokens = []\n",
    "    for word in text_tokens:\n",
    "        if word not in stop_word_file:\n",
    "            tokens.append(word)\n",
    "    return tokens"
   ]
  },
  {
   "cell_type": "markdown",
   "metadata": {},
   "source": [
    "**Approche 1 : creation d'une liste de mots vides en étudiant la fréquence des mots**\n",
    "\n",
    "Ecrivez une fonction qui permet de compter le nombre d'occurences de chaque token dans la collection. Vous pouvez pour cela, mais sans obligation, faire appel à la collection [`Counter`](https://pymotw.com/2/collections/counter.html) de la bibliothèque standard de python qui permet de compter le nombre d'occurences des éléments d'une collection et donc l'interface est très proche de celle des dictionnaires.\n"
   ]
  },
  {
   "cell_type": "code",
   "execution_count": 107,
   "metadata": {},
   "outputs": [],
   "source": [
    "#Let's import the content of the file TIME.STP to a list\n",
    "with open('./Data/Time/TIME.STP', 'r') as f:\n",
    "    mots_vides = []\n",
    "    lines = f.readlines()\n",
    "    for line in lines:\n",
    "        line = line.strip()\n",
    "        if line != '' :\n",
    "            mots_vides.append(line)\n"
   ]
  },
  {
   "cell_type": "code",
   "execution_count": 108,
   "metadata": {},
   "outputs": [
    {
     "data": {
      "text/plain": [
       "['A',\n",
       " 'ABOUT',\n",
       " 'ABOVE',\n",
       " 'ACROSS',\n",
       " 'ACTUALLY',\n",
       " 'ADD',\n",
       " 'ADDED',\n",
       " 'AFTER',\n",
       " 'AGAIN',\n",
       " 'AGAINST',\n",
       " 'AGO',\n",
       " 'ALL',\n",
       " 'ALMOST',\n",
       " 'ALONG',\n",
       " 'ALREADY',\n",
       " 'ALSO',\n",
       " 'ALTHOUGH',\n",
       " 'ALWAYS',\n",
       " 'AM',\n",
       " 'AMONG',\n",
       " 'AN',\n",
       " 'AND',\n",
       " 'ANOTHER',\n",
       " 'ANY',\n",
       " 'ANYONE',\n",
       " 'ARE',\n",
       " 'AROUND',\n",
       " 'AS',\n",
       " 'ASKED',\n",
       " 'AT',\n",
       " 'B',\n",
       " 'BACK',\n",
       " 'BAD',\n",
       " 'BE',\n",
       " 'BECAME',\n",
       " 'BECAUSE',\n",
       " 'BECOME',\n",
       " 'BEEN',\n",
       " 'BEFORE',\n",
       " 'BEGAN',\n",
       " 'BEHIND',\n",
       " 'BEING',\n",
       " 'BEST',\n",
       " 'BETTER',\n",
       " 'BETWEEN',\n",
       " 'BIG',\n",
       " 'BIGGEST',\n",
       " 'BOTH',\n",
       " 'BROUGHT',\n",
       " 'BUT',\n",
       " 'BY',\n",
       " 'C',\n",
       " 'CALLED',\n",
       " 'CAME',\n",
       " 'CAN',\n",
       " 'CANNOT',\n",
       " 'CENT',\n",
       " 'COME',\n",
       " 'COMPLETE',\n",
       " 'CONTINUED',\n",
       " 'COULD',\n",
       " 'D',\n",
       " 'DAY',\n",
       " 'DECIDED',\n",
       " 'DECLARED',\n",
       " 'DESPITE',\n",
       " 'DID',\n",
       " 'DO',\n",
       " 'DOES',\n",
       " 'DOWN',\n",
       " 'DURING',\n",
       " 'E',\n",
       " 'EACH',\n",
       " 'EARLY',\n",
       " 'EIGHT',\n",
       " 'ENOUGH',\n",
       " 'ENTIRE',\n",
       " 'EP',\n",
       " 'ETC',\n",
       " 'EVEN',\n",
       " 'EVER',\n",
       " 'EVERY',\n",
       " 'EVERYTHING',\n",
       " 'F',\n",
       " 'FACE',\n",
       " 'FACED',\n",
       " 'FACT',\n",
       " 'FAILED',\n",
       " 'FAR',\n",
       " 'FELL',\n",
       " 'FEW',\n",
       " 'FINALLY',\n",
       " 'FIND',\n",
       " 'FIRST',\n",
       " 'FIVE',\n",
       " 'FOR',\n",
       " 'FOUND',\n",
       " 'FOUR',\n",
       " 'FROM',\n",
       " 'G',\n",
       " 'GAVE',\n",
       " 'GET',\n",
       " 'GIVE',\n",
       " 'GIVEN',\n",
       " 'GO',\n",
       " 'GOING',\n",
       " 'GOOD',\n",
       " 'GOT',\n",
       " 'H',\n",
       " 'HAD',\n",
       " 'HAS',\n",
       " 'HAVE',\n",
       " 'HAVING',\n",
       " 'HE',\n",
       " 'HELD',\n",
       " 'HER',\n",
       " 'HERE',\n",
       " 'HIM',\n",
       " 'HIMSELF',\n",
       " 'HIS',\n",
       " 'HOUR',\n",
       " 'HOURS',\n",
       " 'HOW',\n",
       " 'HOWEVER',\n",
       " 'I',\n",
       " 'IDEA',\n",
       " 'IF',\n",
       " 'IN',\n",
       " 'INCLUDING',\n",
       " 'INSTEAD',\n",
       " 'INTO',\n",
       " 'IS',\n",
       " 'IT',\n",
       " 'ITS',\n",
       " 'ITSELF',\n",
       " 'J',\n",
       " 'K',\n",
       " 'KEEP',\n",
       " 'KNOW',\n",
       " 'KNOWN',\n",
       " 'KNOWS',\n",
       " 'L',\n",
       " 'LACK',\n",
       " 'LAST',\n",
       " 'LATER',\n",
       " 'LEAST',\n",
       " 'LED',\n",
       " 'LESS',\n",
       " 'LET',\n",
       " 'LIKE',\n",
       " 'LITTLE',\n",
       " 'LONG',\n",
       " 'LONGER',\n",
       " 'LOOK',\n",
       " 'LOT',\n",
       " 'M',\n",
       " 'MADE',\n",
       " 'MAKE',\n",
       " 'MAKING',\n",
       " 'MAN',\n",
       " 'MANY',\n",
       " 'MATTER',\n",
       " 'MAY',\n",
       " 'ME',\n",
       " 'MEANS',\n",
       " 'MEN',\n",
       " 'MIGHT',\n",
       " 'MILES',\n",
       " 'MILLION',\n",
       " 'MOMENT',\n",
       " 'MONTH',\n",
       " 'MONTHS',\n",
       " 'MORE',\n",
       " 'MORNING',\n",
       " 'MOST',\n",
       " 'MUCH',\n",
       " 'MUST',\n",
       " 'MY',\n",
       " 'N',\n",
       " 'NAMED',\n",
       " 'NEAR',\n",
       " 'NEARLY',\n",
       " 'NECESSARY',\n",
       " 'NEED',\n",
       " 'NEEDED',\n",
       " 'NEEDS',\n",
       " 'NEVER',\n",
       " 'NIGHT',\n",
       " 'NO',\n",
       " 'NOR',\n",
       " 'NOT',\n",
       " 'NOTE',\n",
       " 'NOTHING',\n",
       " 'NOW',\n",
       " 'O',\n",
       " 'OF',\n",
       " 'OFF',\n",
       " 'OFTEN',\n",
       " 'ON',\n",
       " 'ONCE',\n",
       " 'ONE',\n",
       " 'ONLY',\n",
       " 'OR',\n",
       " 'OTHER',\n",
       " 'OTHERS',\n",
       " 'OUR',\n",
       " 'OUT',\n",
       " 'OUTSIDE',\n",
       " 'OVER',\n",
       " 'OWN',\n",
       " 'P',\n",
       " 'PAGE',\n",
       " 'PART',\n",
       " 'PAST',\n",
       " 'PER',\n",
       " 'PERHAPS',\n",
       " 'PLACE',\n",
       " 'POINT',\n",
       " 'PROVED',\n",
       " 'PUT',\n",
       " 'Q',\n",
       " 'QM',\n",
       " 'QUESTION',\n",
       " 'R',\n",
       " 'REALLY',\n",
       " 'RECENT',\n",
       " 'RECENTLY',\n",
       " 'REPORTED',\n",
       " 'ROUND',\n",
       " 'S',\n",
       " 'SAID',\n",
       " 'SAME',\n",
       " 'SAY',\n",
       " 'SAYS',\n",
       " 'SEC',\n",
       " 'SECOND',\n",
       " 'SECTION',\n",
       " 'SEE',\n",
       " 'SEEMED',\n",
       " 'SEEMS',\n",
       " 'SENSE',\n",
       " 'SET',\n",
       " 'SETS',\n",
       " 'SEVEN',\n",
       " 'SHE',\n",
       " 'SHORT',\n",
       " 'SHOULD',\n",
       " 'SHOWED',\n",
       " 'SINCE',\n",
       " 'SINGLE',\n",
       " 'SIX',\n",
       " 'SMALL',\n",
       " 'SO',\n",
       " 'SOME',\n",
       " 'SOON',\n",
       " 'START',\n",
       " 'STARTED',\n",
       " 'STILL',\n",
       " 'SUCH',\n",
       " 'T',\n",
       " 'TAKE',\n",
       " 'TAKEN',\n",
       " 'TAKES',\n",
       " 'TEN',\n",
       " 'TEXT',\n",
       " 'THAN',\n",
       " 'THAT',\n",
       " 'THE',\n",
       " 'THEIR',\n",
       " 'THEM',\n",
       " 'THEMSELVES',\n",
       " 'THEN',\n",
       " 'THERE',\n",
       " 'THESE',\n",
       " 'THEY',\n",
       " 'THING',\n",
       " 'THINGS',\n",
       " 'THIRD',\n",
       " 'THIS',\n",
       " 'THOSE',\n",
       " 'THOUGH',\n",
       " 'THOUGHT',\n",
       " 'THOUSANDS',\n",
       " 'THREE',\n",
       " 'THROUGH',\n",
       " 'THUS',\n",
       " 'TIME',\n",
       " 'TINY',\n",
       " 'TO',\n",
       " 'TODAY',\n",
       " 'TOGETHER',\n",
       " 'TOLD',\n",
       " 'TOO',\n",
       " 'TOOK',\n",
       " 'TOWARD',\n",
       " 'TWO',\n",
       " 'U',\n",
       " 'UNDER',\n",
       " 'UNTIL',\n",
       " 'UP',\n",
       " 'UPON',\n",
       " 'US',\n",
       " 'USE',\n",
       " 'USED',\n",
       " 'V',\n",
       " 'VERY',\n",
       " 'W',\n",
       " 'WARNING',\n",
       " 'WAS',\n",
       " 'WAY',\n",
       " 'WE',\n",
       " 'WEEK',\n",
       " 'WEEKS',\n",
       " 'WELL',\n",
       " 'WENT',\n",
       " 'WERE',\n",
       " 'WHAT',\n",
       " 'WHEN',\n",
       " 'WHERE',\n",
       " 'WHETHER',\n",
       " 'WHICH',\n",
       " 'WHILE',\n",
       " 'WHO',\n",
       " 'WHOM',\n",
       " 'WHOSE',\n",
       " 'WHY',\n",
       " 'WILL',\n",
       " 'WITH',\n",
       " 'WITHOUT',\n",
       " 'WORD',\n",
       " 'WORDS',\n",
       " 'WOULD',\n",
       " 'X',\n",
       " 'Y',\n",
       " 'YEAR',\n",
       " 'YEARS',\n",
       " 'YET',\n",
       " 'YOU',\n",
       " 'YOUR',\n",
       " 'Z']"
      ]
     },
     "execution_count": 108,
     "metadata": {},
     "output_type": "execute_result"
    }
   ],
   "source": [
    "mots_vides"
   ]
  },
  {
   "cell_type": "code",
   "execution_count": 95,
   "metadata": {},
   "outputs": [],
   "source": [
    "import collections\n",
    "def count_frequency(collection):\n",
    "    return collections.Counter(collection)\n",
    "      "
   ]
  },
  {
   "cell_type": "markdown",
   "metadata": {},
   "source": [
    "Selectionner les n tokens les plus fréquents dans la collection et sauvegarder les dans une liste que l'on considèrera dans la suite comme une liste de mots-vides."
   ]
  },
  {
   "cell_type": "code",
   "execution_count": 116,
   "metadata": {},
   "outputs": [],
   "source": [
    "#let's tokenize the whole collection:\n",
    "collection = []\n",
    "for key in corpus:\n",
    "    collection += article_tokenize_simple(corpus[key])"
   ]
  },
  {
   "cell_type": "code",
   "execution_count": null,
   "metadata": {},
   "outputs": [],
   "source": []
  },
  {
   "cell_type": "code",
   "execution_count": 132,
   "metadata": {},
   "outputs": [],
   "source": [
    "n = 100\n",
    "mots_vides_n = collections.Counter(collection).most_common(n)"
   ]
  },
  {
   "cell_type": "code",
   "execution_count": 134,
   "metadata": {},
   "outputs": [
    {
     "data": {
      "text/plain": [
       "[('A', 423),\n",
       " ('OF', 423),\n",
       " ('THE', 423),\n",
       " ('TO', 421),\n",
       " ('IN', 420),\n",
       " ('AND', 418),\n",
       " ('FOR', 406),\n",
       " ('THAT', 389),\n",
       " ('WITH', 384),\n",
       " ('\"', 384),\n",
       " ('WAS', 377),\n",
       " ('ON', 370),\n",
       " ('LAST', 365),\n",
       " ('BY', 358),\n",
       " ('AS', 352),\n",
       " ('BUT', 350),\n",
       " ('AT', 350),\n",
       " ('HIS', 342),\n",
       " ('FROM', 339),\n",
       " ('IS', 336),\n",
       " ('IT', 325),\n",
       " ('HE', 323),\n",
       " ('NOT', 303),\n",
       " ('BE', 301),\n",
       " ('HAD', 297),\n",
       " ('AN', 295),\n",
       " ('WERE', 292),\n",
       " ('WHO', 285),\n",
       " ('THEIR', 282),\n",
       " (':', 279),\n",
       " ('ONE', 276),\n",
       " ('HAS', 274),\n",
       " ('HAVE', 270),\n",
       " ('WEEK', 267),\n",
       " ('UP', 262),\n",
       " ('WHEN', 246),\n",
       " ('THEY', 244),\n",
       " ('OUT', 244),\n",
       " ('BEEN', 243),\n",
       " ('ONLY', 240),\n",
       " ('ALL', 237),\n",
       " ('ARE', 229),\n",
       " ('ITS', 221),\n",
       " ('WHICH', 219),\n",
       " ('NEW', 218),\n",
       " ('MORE', 217),\n",
       " ('INTO', 217),\n",
       " (';', 215),\n",
       " ('WOULD', 210),\n",
       " ('THIS', 208),\n",
       " ('TWO', 208),\n",
       " ('AFTER', 207),\n",
       " ('NO', 202),\n",
       " ('THAN', 202),\n",
       " ('THERE', 198),\n",
       " ('SAID', 193),\n",
       " ('OVER', 193),\n",
       " ('MOST', 192),\n",
       " ('WILL', 191),\n",
       " ('GOVERNMENT', 190),\n",
       " ('OR', 185),\n",
       " ('EVEN', 182),\n",
       " ('U.S', 177),\n",
       " ('OFF', 168),\n",
       " ('THREE', 167),\n",
       " ('SINCE', 165),\n",
       " ('COULD', 164),\n",
       " ('OTHER', 163),\n",
       " ('IF', 162),\n",
       " ('SOME', 161),\n",
       " ('WE', 159),\n",
       " ('THEM', 157),\n",
       " ('YEARS', 156),\n",
       " ('FIRST', 155),\n",
       " ('TIME', 155),\n",
       " ('AGAINST', 151),\n",
       " ('SO', 151),\n",
       " ('NOW', 149),\n",
       " ('HIM', 149),\n",
       " ('ABOUT', 143),\n",
       " ('ALSO', 142),\n",
       " ('WHAT', 141),\n",
       " ('OWN', 138),\n",
       " ('BACK', 137),\n",
       " ('?', 135),\n",
       " ('WHERE', 132),\n",
       " ('DOWN', 131),\n",
       " ('THROUGH', 131),\n",
       " ('I', 131),\n",
       " ('PARTY', 130),\n",
       " ('COMMUNIST', 129),\n",
       " ('STILL', 129),\n",
       " ('BEFORE', 125),\n",
       " ('WEEK,', 125),\n",
       " ('ANY', 124),\n",
       " ('LIKE', 124),\n",
       " ('THEN', 123),\n",
       " ('MINISTER', 123),\n",
       " ('MIGHT', 123),\n",
       " ('WHILE', 121)]"
      ]
     },
     "execution_count": 134,
     "metadata": {},
     "output_type": "execute_result"
    }
   ],
   "source": [
    "mots_vides_n"
   ]
  },
  {
   "cell_type": "markdown",
   "metadata": {},
   "source": [
    "Visualiser sous la forme d'un histogramme les 25 tokens les plus fréquents de la collection. On utilisera pour cela les bibiothèques [matplolib](https://matplotlib.org/) et [seaborn](https://seaborn.pydata.org/) qu'il vous faudra installer (si pas déja le cas) et importer au préalable. Le code ci-dessous vous montre un exemple de code qui affiche un histogramme de manière horizontale des 30 éléments les plus fréquents d'une collection de type `Counter` et que vous pouvez réutiliser, en l'adaptant, pour répondre à la question demandée. L'exemple est donné sur un article et non sur un  corpus."
   ]
  },
  {
   "cell_type": "code",
   "execution_count": 138,
   "metadata": {},
   "outputs": [
    {
     "data": {
      "image/png": "[encoded data removed]",
      "text/plain": [
       "<Figure size 1080x864 with 1 Axes>"
      ]
     },
     "metadata": {},
     "output_type": "display_data"
    }
   ],
   "source": [
    "%matplotlib inline\n",
    "import collections\n",
    "import matplotlib.pyplot as plt\n",
    "import seaborn as sns\n",
    "import numpy as np\n",
    "text = 'UNITED NATIONS POTENT PYGMY IN MANHATTAN LAST WEEK, THE U.N .GREW TO A TOTAL OF 113 MEMBERS WITH THE ADMISSION OF THE NEWLYINDEPENDENT STATES OF ZANZIBAR AND KENYA . ZANZIBAR CONSISTS OF TWOSMALL ISLANDS IN THE INDIAN OCEAN, WITH A TOTAL POPULATION OF 310,000,OR ABOUT THAT OF OMAHA . NEVERTHELESS, ZANZIBAR HAS ONE VOTE IN THEGENERAL ASSEMBLY, AND IS THUS EQUAL IN VOTING POWER WITH SUCH NUCLEARGIANTS AS THE SOVIET UNION AND THE U.S .'\n",
    "tokens = text.split()\n",
    "count_tokens = collections.Counter(tokens)\n",
    "\n",
    "corpus_common_words = [word[0] for word in count_tokens.most_common(30)]\n",
    "corpus_common_counts = [word[1] for word in count_tokens.most_common(30)]\n",
    "\n",
    "plt.style.use('dark_background')\n",
    "plt.figure(figsize=(15, 12))\n",
    "\n",
    "\n",
    "sns.barplot(x=corpus_common_counts,y=corpus_common_words)\n",
    "plt.title('Most Common Tokens in the TIME Corpus');"
   ]
  },
  {
   "cell_type": "code",
   "execution_count": 140,
   "metadata": {},
   "outputs": [
    {
     "data": {
      "text/plain": [
       "Text(0.5, 1.0, 'Most Common Tokens in the TIME Corpus')"
      ]
     },
     "execution_count": 140,
     "metadata": {},
     "output_type": "execute_result"
    },
    {
     "data": {
      "image/png": "[encoded data removed]",
      "text/plain": [
       "<Figure size 1080x864 with 1 Axes>"
      ]
     },
     "metadata": {},
     "output_type": "display_data"
    }
   ],
   "source": [
    "# A compl%matplotlib inline\n",
    "import collections\n",
    "import matplotlib.pyplot as plt\n",
    "import seaborn as sns\n",
    "import numpy as np\n",
    "n = 100\n",
    "\n",
    "corpus_common_words = [word[0] for word in collections.Counter(collection).most_common(n)]\n",
    "corpus_common_counts = [word[1] for word in collections.Counter(collection).most_common(n)]\n",
    "\n",
    "plt.style.use('dark_background')\n",
    "plt.figure(figsize=(15, 12))\n",
    "\n",
    "\n",
    "sns.barplot(x=corpus_common_counts,y=corpus_common_words)\n",
    "plt.title('Most Common Tokens in the TIME Corpus')"
   ]
  },
  {
   "cell_type": "markdown",
   "metadata": {},
   "source": [
    "Ecrire un programme permettant de comparer la liste obtenue avec les mots fréquents et la liste de mots vides fournie dans le fichier [TIME.STP](./Data/TIME.STP). Il vous faudra bien sûr d'abord charger le fichier."
   ]
  },
  {
   "cell_type": "code",
   "execution_count": 141,
   "metadata": {},
   "outputs": [
    {
     "data": {
      "text/plain": [
       "340"
      ]
     },
     "execution_count": 141,
     "metadata": {},
     "output_type": "execute_result"
    }
   ],
   "source": [
    "# A completer : comparaison des deux listes de mots vides.\n",
    "len(mots_vides)"
   ]
  },
  {
   "cell_type": "code",
   "execution_count": 149,
   "metadata": {},
   "outputs": [],
   "source": [
    "mots_vides_340 = [X[0] for X in collections.Counter(collection).most_common(340)]"
   ]
  },
  {
   "cell_type": "markdown",
   "metadata": {},
   "source": [
    "Let's compare the similarity of the two list of mots-vides"
   ]
  },
  {
   "cell_type": "code",
   "execution_count": 148,
   "metadata": {},
   "outputs": [
    {
     "data": {
      "text/plain": [
       "0.6235294117647059"
      ]
     },
     "execution_count": 148,
     "metadata": {},
     "output_type": "execute_result"
    }
   ],
   "source": [
    "counter = 0\n",
    "for word in mots_vides:\n",
    "    if word in mots_vides_340:\n",
    "        counter += 1\n",
    "simillarity = counter/len(mots_vides)\n",
    "simillarity"
   ]
  },
  {
   "cell_type": "markdown",
   "metadata": {},
   "source": [
    "Ecrire une fonction `remove_stop_words` qui prend une collection segmentée en entrée et qui renvoie la collection segmentée et filtrée (c'est à dire sous la forme d'un ensemble de documents segmentés et privés des mots vides). Pour rappel, dans ce TP, nous utilisons une représentation de la collection sous la forme d'un dictionnaire dont les clés sont les identifiants uniques des documents (`doc_id`) et les valeurs sont une liste des mots ou tokens du document. Nous pouvons travailler avec ce type de représentation car notre collection est de petite taille. "
   ]
  },
  {
   "cell_type": "code",
   "execution_count": 0,
   "metadata": {
    "colab": {},
    "colab_type": "code",
    "id": "jFFHd1nILWm2"
   },
   "outputs": [],
   "source": [
    "def remove_stop_words(collection ,stop_word_file):\n",
    "    # TO COMPLETE\n",
    "    return \n",
    "    \n"
   ]
  },
  {
   "cell_type": "markdown",
   "metadata": {},
   "source": [
    "Appliquer la fonction précédente avec les deux listes de mots vides proposées (liste des n mots les plus fréquents et liste des mots vide"
   ]
  },
  {
   "cell_type": "code",
   "execution_count": null,
   "metadata": {},
   "outputs": [],
   "source": [
    "# A completer : application des opérations de filtrage à la collection TIME"
   ]
  },
  {
   "cell_type": "markdown",
   "metadata": {},
   "source": [
    "Comparer les collections segmentées ainsi obtenues par exemple en comparant la taille (en nombre de tokens) après application des différentes étapes de filtrage."
   ]
  },
  {
   "cell_type": "code",
   "execution_count": null,
   "metadata": {},
   "outputs": [],
   "source": [
    "# A completer : comparaison des méthodes de filtrage"
   ]
  },
  {
   "cell_type": "markdown",
   "metadata": {},
   "source": [
    "Visualiser maintenant, toujours sous la forme d'un histogramme les 25 tokens les plus fréquents de la collection."
   ]
  },
  {
   "cell_type": "markdown",
   "metadata": {
    "colab_type": "text",
    "id": "8Xi_p4Y8LWm9"
   },
   "source": [
    "#### 3 . Normalisation des termes\n",
    "\n",
    "Il s'agit ici d'écrire les fonctions permettant d'apppliquer les étapes de normalisation (lemmatisation et racinisation) vues en cours et qui permettent de réduire la taille du vocabulaire. Pour rappel, cette étape consiste à représenter les mots par leur forme canonique ou leur racine afin de ne conserver que le sens des mots utilisés et de reduire ainsi la taille du vocabulaire de représentation. Ces opérations sont souvent assez complexes et nous allons pour cela utiliser les fonctions du package [`stem`](https://www.nltk.org/api/nltk.stem.html) de nltk.\n",
    "\n",
    "**Racinisation**\n",
    "\n",
    "Pour la racinisation, nous allons utiliser l'algorithme de Porter mentionné en cours et dont une implémentation est fournie dans le package `stem`. Compléter le code ci-dessous pour appliquer l'algorithme de Porter à votre collection. Attention, la fonction `stem` s'applique sur un mot ou token donné.\n"
   ]
  },
  {
   "cell_type": "code",
   "execution_count": 30,
   "metadata": {},
   "outputs": [],
   "source": [
    "from nltk.stem import PorterStemmer\n",
    "\n",
    "def collection_stemming(segmented_collection):\n",
    "    stemmer = PorterStemmer () # initialisation d'un stemmer\n",
    "    # a completer\n",
    "    return stemmed_collection\n",
    "\n",
    "# test sur la collection TIME filtrée des mots vides\n",
    "\n",
    "# a completer\n",
    "\n"
   ]
  },
  {
   "cell_type": "markdown",
   "metadata": {},
   "source": [
    "**Lemmatisation**\n",
    "\n",
    "Pour la lemmatisation, nous allons utiliser le `WordNetLemmatizer` du package `stem` de nltk. Comme précedemment, complèter le code ci-dessous pour l'appliquer à votre collection segmentée et privée des mots vides."
   ]
  },
  {
   "cell_type": "code",
   "execution_count": 31,
   "metadata": {},
   "outputs": [],
   "source": [
    "from nltk.stem import WordNetLemmatizer\n",
    "\n",
    "def collection_lemmatize(segmented_collection):\n",
    "    stemmer = WordNetLemmatizer () # initialisation d'un lemmatiseur\n",
    "    # a completer\n",
    "    return lemmatized_collection\n",
    "\n",
    "# test sur la collection TIME filtrée des mots vides\n",
    "\n",
    "# a completer"
   ]
  },
  {
   "cell_type": "markdown",
   "metadata": {},
   "source": [
    "Prenez le temps d'observer le résultat de ces opérations sur les mots de la collection TIME pour vous faire une idée sur l'impact que ces opérations peuvent avoir sur le processus d'indexation et de recherche."
   ]
  },
  {
   "cell_type": "markdown",
   "metadata": {},
   "source": [
    "#### 4 . Extraction du vocabulaire\n",
    "\n",
    "Nous arrivons maintenant à la dernière étape de cette chaîne de traitements linguistiques qui consiste à extraire le vocabulaire de termes résultant de cette suite de traitements. C'est une étape assez simple à mettre en oeuvre (c.f. travail précédent sur la fréquence des mots). Ici, nous cherchons les termes uniques et nous pouvons donc utiliser le type [`set`](https://docs.python.org/3/tutorial/datastructures.html#sets) prédéfini dans python et qui est une collection non-ordonnée d’objets uniques et immuables. \n",
    "Le code ci-dessous vous montre un exemple d'utilisation de cette struture de données."
   ]
  },
  {
   "cell_type": "code",
   "execution_count": 32,
   "metadata": {},
   "outputs": [
    {
     "data": {
      "text/plain": [
       "{'au', 'bon', 'sur'}"
      ]
     },
     "execution_count": 32,
     "metadata": {},
     "output_type": "execute_result"
    }
   ],
   "source": [
    "a = set()\n",
    "a.update(['bon'])\n",
    "a.update(['sur'])\n",
    "a.update(['au'])\n",
    "a.update(['sur'])\n",
    "a"
   ]
  },
  {
   "cell_type": "markdown",
   "metadata": {},
   "source": [
    "Completer le code ci-dessous permettant de construire le vocabulaire de termes d'index de votre collection."
   ]
  },
  {
   "cell_type": "code",
   "execution_count": 33,
   "metadata": {},
   "outputs": [],
   "source": [
    "def extract_indexation_vocabulary(processed_collection):\n",
    "    vocabulary = set()\n",
    "    # a completer\n",
    "    return vocabulary"
   ]
  },
  {
   "cell_type": "markdown",
   "metadata": {
    "colab_type": "text",
    "id": "uMRCZU6CLWnA"
   },
   "source": [
    "### Etape 3 : étude des lois de puissance du corpus.\n",
    "\n",
    "Vous allez ici nous intéresser à des informations statistiques sur votre corpus. Il faudra en particulier répondre aux différentes questions ci-dessous.\n",
    "\n",
    "\n",
    "#### Question 1 : Quel est le nombre de tokens dans le corpus ? \n",
    "\n",
    "Ecrire une fonction `count_tokens (collection)` permettant de compter le nombre de tokens dans votre collection. Vous pourrez par exemple comparer le nombre de tokens obtenus pour chacune des méthodes de segmentation implémentée précedemment."
   ]
  },
  {
   "cell_type": "code",
   "execution_count": 34,
   "metadata": {
    "colab": {},
    "colab_type": "code",
    "id": "QkygvmqJLWnC"
   },
   "outputs": [],
   "source": [
    "# a completer"
   ]
  },
  {
   "cell_type": "markdown",
   "metadata": {
    "colab_type": "text",
    "id": "breMJgptLWnF"
   },
   "source": [
    "#### Question 2 : Quel est la taille du vocabulaire obtenu par l'application des traitements de l'étape 2 sur votre collection ?\n",
    "\n",
    "Ecrire une fonction `count_terms(collection)` permettant de compter le nombre de termes uniques obtenus après l'application des traitements de l'étape 2 sur la collection complète. Vous pourrez notamment mesurer l'impact des différentes étapes sur la taille du vocabulaire final en comparant les tailles obtenues à chaque étape."
   ]
  },
  {
   "cell_type": "code",
   "execution_count": 35,
   "metadata": {
    "colab": {},
    "colab_type": "code",
    "id": "bXRZpnLILWnG"
   },
   "outputs": [],
   "source": [
    "# à compléter "
   ]
  },
  {
   "cell_type": "markdown",
   "metadata": {
    "colab_type": "text",
    "id": "Kx8hRkhBLWnJ"
   },
   "source": [
    "#### Question 3 : Estimation sur la moitié de la collection ?\n",
    "    \n",
    "Calculer le nombre total de tokens et la taille du vocabulaire pour la moitié de la collection (211 premiers articles) et utiliser les résultats avec les deux précédents pour déterminer les paramètres k et b de la loi de Heap (c.f. cours 1). "
   ]
  },
  {
   "cell_type": "code",
   "execution_count": 36,
   "metadata": {
    "colab": {},
    "colab_type": "code",
    "id": "LATPSAg0LWnL"
   },
   "outputs": [],
   "source": [
    "# à compléter "
   ]
  },
  {
   "cell_type": "markdown",
   "metadata": {
    "colab_type": "text",
    "id": "42CqpQa0LWnO"
   },
   "source": [
    "#### Question 4 : Et pour 1 million de tokens  ?\n",
    "\n",
    "Estimer la taille du vocabulaire pour une collection de 1 million de tokens pour votre collection."
   ]
  },
  {
   "cell_type": "code",
   "execution_count": null,
   "metadata": {
    "colab": {},
    "colab_type": "code",
    "id": "orO7xqSALWnP"
   },
   "outputs": [],
   "source": []
  },
  {
   "cell_type": "markdown",
   "metadata": {
    "colab_type": "text",
    "id": "IM3nyAxqLWnT"
   },
   "source": [
    "#### Question 5 : Loi de Zipf\n",
    "\n",
    "Tracer le graphe fréquence (f) vs rang (r) pour tous les tokens de la collection. Tracer\n",
    "aussi le graphe log(f) vs log(r)."
   ]
  },
  {
   "cell_type": "code",
   "execution_count": 37,
   "metadata": {},
   "outputs": [],
   "source": [
    "# à compléter "
   ]
  },
  {
   "cell_type": "markdown",
   "metadata": {
    "colab": {},
    "colab_type": "code",
    "id": "9t7yft5OLWnV"
   },
   "source": [
    "### Etape 4 : Construction de l'index inversé\n",
    "\n",
    "Nous avons maintenant tous les ingrédients nécessaires pour construire l'index inversé de la collection. Pour rappel, l'index inversé est une structure de données, fondamentale en recherche d'information, permettant de stocker l'information utile sous la forme d'un dictionnaire de termes dont la clé est un tuple forme du terme lui-même et sa fréquence dans la collection (au sens `df`: nombre de documents dans lesquels le terme apparaît au moins une fois) et dont la valeut est une liste qui enregistre à minima les numéros des documents dans lesquels le terme apparait.\n",
    "\n",
    "\n",
    "<img src=\"./Images/iindex.png\" width=\"500\" height=\"500\" />\n",
    "\n",
    "Pour la collection TIME, l'algorithme ci-dessous peut être utilisé pour construire cet index.\n",
    "\n",
    "\n",
    "<img src=\"./Images/algorithm.png\" width=\"500\" height=\"500\" />\n",
    "\n",
    "Completer la fonction `build_inverted_index(collection,type_index)` ci-dessous qui permet de construire l'index inversé d'une collection donnée en paramètre. Le paramètre `type_index` vous permettra de préciser le type d'index à construire parmi les 3 vus en cours : index de documents (type = 1), index de fréquence (type = 2) et index de position (type =3). L"
   ]
  },
  {
   "cell_type": "code",
   "execution_count": 38,
   "metadata": {},
   "outputs": [],
   "source": [
    "def build_invertes_index(collection,type_index):\n",
    "    # à complèter\n",
    "    return inverted_index\n",
    "    \n",
    "    "
   ]
  },
  {
   "cell_type": "markdown",
   "metadata": {},
   "source": [
    "#### Sauvegarde de l'index inversé dans un fichier \n",
    "\n",
    "Il nous reste maintenant à sauvegarder l'index créé sous la forme d'un fichier texte selon le format ci-dessous :\n",
    "```\n",
    "Term1, df_1 | (doc_1, tf_doc1_Term1) (doc_4, tf_doc_4_Term1)\n",
    "Term2, df_2 | (doc_3, tf_doc3_Term2) \n",
    "...\n",
    "```\n",
    "\n",
    "Pour un index de position, le format sera le suivant :\n",
    "```\n",
    "Term1, df_1 | (doc_1, tf_doc1_Term1 ; pos1 pos2 ... posn) (doc_4, tf_doc_4_Term1; pos1 pos2 )\n",
    "Term2, df_2 | (doc_3, tf_doc3_Term2 ; pos1 pos2 ..posm) \n",
    "...\n",
    "```\n",
    "Ecrire une fonction permettant de sauvegarder votre index inversé sur disque sous la forme d'un fichier texte\n"
   ]
  },
  {
   "cell_type": "code",
   "execution_count": 39,
   "metadata": {},
   "outputs": [],
   "source": [
    "# A compléter"
   ]
  },
  {
   "cell_type": "markdown",
   "metadata": {},
   "source": [
    "#### Chargement d'un index inversé\n",
    "\n",
    "Ecrire une fonction permettant de charger un index inversé sauvegardé sous la forme d'un fichier texte comme un dictionnaire."
   ]
  },
  {
   "cell_type": "code",
   "execution_count": 40,
   "metadata": {},
   "outputs": [],
   "source": [
    "# A compléter"
   ]
  },
  {
   "cell_type": "markdown",
   "metadata": {},
   "source": [
    "#### Taille et temps de construction de l'index\n",
    "\n",
    "Il s'agit ici de répondre aux questions suivantes :\n",
    "+ Quelle est la taille de l'index inversé obtenu en mémoire ? (indice : utilisation de `getsizeof`du module sys)\n",
    "+ Quelle est la taille de l'index inversé écrit sur disque ?\n",
    "+ Combien de temps prend la construction de votre index en tout (indice : utilisation du module `time`)?\n"
   ]
  },
  {
   "cell_type": "code",
   "execution_count": 41,
   "metadata": {},
   "outputs": [],
   "source": [
    "# A compléter"
   ]
  }
 ],
 "metadata": {
  "colab": {
   "name": "Lab1_Indexation.ipynb",
   "provenance": [],
   "version": "0.3.2"
  },
  "kernelspec": {
   "display_name": "Python 3",
   "language": "python",
   "name": "python3"
  }
 },
 "nbformat": 4,
 "nbformat_minor": 1
}
