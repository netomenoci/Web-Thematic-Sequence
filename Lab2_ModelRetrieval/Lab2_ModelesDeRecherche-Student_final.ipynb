{
 "cells": [
  {
   "cell_type": "markdown",
   "metadata": {
    "colab_type": "text",
    "id": "QICsOhm7j_uP"
   },
   "source": [
    "# Recherche d'Information et traitement de données massives\n",
    "## Lab 2 : Modèles de Recherche\n",
    "\n",
    "L'objectif de cette séance est de mettre en oeuvre les différents modèles de recherche vus en cours. La première partie du Lab correspond à des exercices d'application de cours sur les différents modèles. La deuxième partie est la mise en oeuvre des différents modèles sur le corpus TIME."
   ]
  },
  {
   "cell_type": "markdown",
   "metadata": {},
   "source": [
    "\n",
    "## Partie 1 : Exercices\n",
    "\n"
   ]
  },
  {
   "cell_type": "markdown",
   "metadata": {},
   "source": [
    "### MODELE BOOLEEN\n",
    "\n",
    "Dans cet exercice, on considère une collection très petite constituée des documents ci-dessous :\n",
    "\n",
    "1. Doc1 = \"information retrieval and massive data processing\"\n",
    "2. Doc2 = \"introduction to information retrieval \"\n",
    "3. Doc3 = \"mining massive dataset\"\n",
    "4. Doc4 = \"modern information retrieval\"\n",
    "5. Doc5 = \"search engine information retrieval in practice\"\n",
    "6. Doc6 = \"information retrieval implementing and evaluating search engine\"\n",
    "\n",
    "**Exercice 1**\n",
    "\n",
    "Construire à la main la matrice terme-incidence de cette collection en considérant l'ensemble de mots vides suivants `Stop_words = [\"and\", \"to\", \"in\"]`.\n",
    "\n"
   ]
  },
  {
   "cell_type": "markdown",
   "metadata": {
    "colab_type": "text",
    "id": "bia9wilfj_uT"
   },
   "source": [
    "**Exercice 2**\n",
    "\n",
    "Quels sont les réponses aux requêtes ci-dessous :\n",
    "\n",
    "1. Query 1 = \"information AND retrieval AND NOT massive\"\n",
    "2. Query 2 = \"search AND engine AND NOT practice \"\n",
    "3. Query 3 = \"(information OR search) AND retrieval\"\n",
    "\n",
    "\n",
    "**Exercice 3**\n",
    "\n",
    "Nous allons maintenant vérifier les réponses aux exercices 1 et 2 de manière expérimentale. On considère donc la collection comme représentée ci-dessous."
   ]
  },
  {
   "cell_type": "code",
   "execution_count": null,
   "metadata": {
    "colab": {},
    "colab_type": "code",
    "id": "AqYfaWF-j_uV"
   },
   "outputs": [],
   "source": [
    "D1 = \"information retrieval and massive data processing\"\n",
    "D2 = \"introduction to information retrieval\"\n",
    "D3 = \"mining massive dataset\"\n",
    "D4 = \"modern information retrieval\"\n",
    "D5 = \"search engine information retrieval in practice\"\n",
    "D6 = \"information retrieval implementing and evaluating search engine\"\n",
    "\n",
    "Collection = {\"DOC1\": D1,\n",
    "            \"DOC2\": D2, \n",
    "            \"DOC3\": D3, \n",
    "            \"DOC4\": D4 ,\n",
    "            \"DOC5\": D5,\n",
    "             \"DOC6\" : D6}\n",
    "\n",
    "StopWords = [\"and\", \"to\",\"in\"]\n",
    "\n",
    "BooleanOperator = {'AND', 'OR', 'NOT'}"
   ]
  },
  {
   "cell_type": "code",
   "execution_count": null,
   "metadata": {
    "colab": {},
    "colab_type": "code",
    "id": "eeiXwbpbj_uc",
    "outputId": "713e4a6b-bd6e-436e-fc71-9819dec23d46"
   },
   "outputs": [],
   "source": [
    "Collection"
   ]
  },
  {
   "cell_type": "markdown",
   "metadata": {
    "colab_type": "text",
    "id": "4_vjolhnj_uk"
   },
   "source": [
    "1- Ecrire une fonction permettant de filtrer la collection des stop words et qui renvoie la collection filtrée."
   ]
  },
  {
   "cell_type": "code",
   "execution_count": null,
   "metadata": {},
   "outputs": [],
   "source": [
    "def remove_stop_word(collection):\n",
    "    filtered_collection ={}\n",
    "    # a completer\n",
    "    return filtered_collection\n",
    "\n",
    "\n",
    "\n",
    "Filtered_Collection = remove_stop_word(Collection)"
   ]
  },
  {
   "cell_type": "markdown",
   "metadata": {},
   "source": [
    "2- Ecrire une fonction permettant d'extraire le vocabulaire extrait de la collection (termes uniques)"
   ]
  },
  {
   "cell_type": "code",
   "execution_count": null,
   "metadata": {},
   "outputs": [],
   "source": [
    "# a completer"
   ]
  },
  {
   "cell_type": "markdown",
   "metadata": {},
   "source": [
    " 3- Ecrire une fonction `term_document_incidence_matrix (Collection,Vocabulary)` qui construit et renvoie la matrice terme-incidence d'une collection donnée en paramètre.\n",
    " "
   ]
  },
  {
   "cell_type": "code",
   "execution_count": null,
   "metadata": {},
   "outputs": [],
   "source": [
    "def term_document_incidence_matrix (Collection,Vocabulary):\n",
    "    term_document_matrix = {}\n",
    "    # A completer\n",
    "    return term_document_matrix\n"
   ]
  },
  {
   "cell_type": "markdown",
   "metadata": {},
   "source": [
    "4- Appliquer cette fonction sur la collection des 6 documents."
   ]
  },
  {
   "cell_type": "code",
   "execution_count": null,
   "metadata": {},
   "outputs": [],
   "source": [
    "# a completer"
   ]
  },
  {
   "cell_type": "markdown",
   "metadata": {},
   "source": [
    "Ecrire une fonction `term_incidence_vector (term)` retournant le vector d'incidence d'un terme donné en paramètre."
   ]
  },
  {
   "cell_type": "code",
   "execution_count": null,
   "metadata": {},
   "outputs": [],
   "source": [
    "def term_incidence_vector(term):\n",
    "    # a completer"
   ]
  },
  {
   "cell_type": "markdown",
   "metadata": {},
   "source": [
    "La fonction donnée ci-dessous permet d'afficher un dictionnaire ligne par ligne."
   ]
  },
  {
   "cell_type": "code",
   "execution_count": null,
   "metadata": {},
   "outputs": [],
   "source": [
    "def displayDict(D):\n",
    "    print(\"\\n\")\n",
    "    for i in D:\n",
    "        print (i , \" : \" ,D[i])\n",
    "    print(\"\\n\")\n"
   ]
  },
  {
   "cell_type": "markdown",
   "metadata": {},
   "source": [
    "Appliquer le code ci-dessous pour vérifier que la matrince terme incidence construite correspond bien à celle que vous avez construit manuellement."
   ]
  },
  {
   "cell_type": "code",
   "execution_count": null,
   "metadata": {},
   "outputs": [],
   "source": [
    "# Affichage de la matrice terme incidence \n",
    "print(\"Term-Document incidence Matrix\\n\")\n",
    "displayDict(term_document_incidence_matrix (Collection,Vocabulary))\n",
    "print (\"Incidence Vector of information\", term_incidence_vector('information'))"
   ]
  },
  {
   "cell_type": "markdown",
   "metadata": {},
   "source": [
    "Ecrire une fonction `query_processing(query)` qui prend en entrée une requête sous la forme d'une chaîne de caractères et qui renvoie la représentation d'une requête sous la forme d'une liste de termes et d'opérateurs booléens définis ici : `BooleanOperator = {'AND', 'OR', 'NOT'}`.\n",
    "Par exemple pour la requête `\"information AND retrieval and NOT massive\"` la fonction renverra la liste `[ \"information\", \"AND\", \"retrieval\", \"AND\", \"NOT\", \"massive\"]`."
   ]
  },
  {
   "cell_type": "code",
   "execution_count": null,
   "metadata": {},
   "outputs": [],
   "source": [
    "def query_processing(query):\n",
    "    processed_query=[]\n",
    "    # a completer\n",
    "    return processed_query"
   ]
  },
  {
   "cell_type": "markdown",
   "metadata": {},
   "source": [
    "On considère la fonction `boolean_operator_processing (BoolOperator,term1,term2)` permettant de calculer le résultat de `term1 BoolOperator term2`. Cette fonction utilise la fonction `zip` de python décrite [ici](https://docs.python.org/3.3/library/functions.html#zip).\n"
   ]
  },
  {
   "cell_type": "code",
   "execution_count": 1,
   "metadata": {},
   "outputs": [],
   "source": [
    "def boolean_operator_processing(BoolOperator,term1,term2):\n",
    "    result=[]\n",
    "    if BoolOperator == \"AND\":\n",
    "        for a , b in zip(term1,term2) :\n",
    "            if a==1 and b==1 :\n",
    "                result.append(1)\n",
    "            else :\n",
    "                result.append(0)\n",
    "    elif BoolOperator==\"OR\" :\n",
    "        for a,b in zip(term1,term2)  :\n",
    "            if a==0 and b==0 :\n",
    "                result.append(0)\n",
    "            else :\n",
    "                result.append(1)\n",
    "    elif BoolOperator == \"NOT\":\n",
    "        for b in term1 :\n",
    "            if b == 1 :\n",
    "                result.append(0)\n",
    "            else :\n",
    "                result.append(1)\n",
    "    return result"
   ]
  },
  {
   "cell_type": "markdown",
   "metadata": {},
   "source": [
    "Appliquer le code ci-dessous pour tester cette fonction."
   ]
  },
  {
   "cell_type": "code",
   "execution_count": 2,
   "metadata": {},
   "outputs": [
    {
     "name": "stdout",
     "output_type": "stream",
     "text": [
      "[0, 0, 0, 1]\n",
      "[0, 1, 1, 1]\n",
      "[1, 0, 1, 0]\n"
     ]
    }
   ],
   "source": [
    "v1=[0,1,0,1]\n",
    "v2=[0,0,1,1]\n",
    "v3=[]\n",
    "print(boolean_operator_processing(\"AND\",v1,v2))\n",
    "print(boolean_operator_processing(\"OR\",v1,v2))\n",
    "print(boolean_operator_processing(\"NOT\",v1,v3))"
   ]
  },
  {
   "cell_type": "markdown",
   "metadata": {},
   "source": [
    "Ecrire une fonction `query_processing (term_incidence_matrix, query)` permettant de traiter la requête `query` en utilisant la matrice `term_incidence_matrix` et donc en appliquant les opérations binaires sur les vecteurs d'incidence des différents termes de la requête. "
   ]
  },
  {
   "cell_type": "code",
   "execution_count": null,
   "metadata": {},
   "outputs": [],
   "source": [
    "def query_processing (term_incidence_matrix, query):\n",
    "    # A completer."
   ]
  },
  {
   "cell_type": "markdown",
   "metadata": {},
   "source": [
    "Appliquer cette fonction aux 3 requêtes de l'exercice 2 et vérifier que le résultat est le même que celui calculé à la main."
   ]
  },
  {
   "cell_type": "code",
   "execution_count": null,
   "metadata": {},
   "outputs": [],
   "source": [
    "# A completer."
   ]
  },
  {
   "cell_type": "markdown",
   "metadata": {
    "colab_type": "text",
    "id": "5ieTRPxrj_um"
   },
   "source": [
    "### MODELE VECTORIEL\n",
    "**Exercice 4**\n",
    "\n",
    "Considérons une requête $q$ contenant les terme *OS, Jaguar* et trois documents de même taille $d_1$, $d_2$ et $d_3$ qui contiennent respectivement *Jaguar, Jaguar, Jungle, Jungle, Jungle*, et *Système d'exploitation, Jaguar, Mac, Système d'exploitation* et *Jaguar, Bentley, Mercedes, Jaguar, Jaguar* soit :\n",
    "\n",
    "`d_1 = {Jaguar, Jaguar, Jungle, Jungle, Jungle}`\n",
    "\n",
    "`d_2 = {Système d'exploitation, Jaguar, Mac, Système d'exploitation}`\n",
    "\n",
    "`d_3 = {Jaguar, Bentley, Mercedes, Jaguar, Jaguar}`\n",
    "\n",
    "Dans la suite, nous utiliserons l'abréviation S.E. pour *Système d'exploitation* et nous supposerons que le vocabulaire associé est : \n",
    "\n",
    "$$\\mathcal{V} = \\{ bentley, jaguar, jungle, mac, mercedes, os, S.E.\\} $$\n",
    "\n",
    "**1. Donner les vecteurs associés aux documents et à la requête.**\n"
   ]
  },
  {
   "cell_type": "markdown",
   "metadata": {},
   "source": [
    "**2. Dans le cas où on privilégie une représentation à base de $tf$, ordonner les documents par rapport à leur score (i.e. produit scalaire) avec la requête.**"
   ]
  },
  {
   "cell_type": "markdown",
   "metadata": {},
   "source": [
    "*Jaguar* est un terme polysémique et on voit bien sur l'exemple précédent que si un terme polysémique d'une requête est répété plusieurs fois dans des documents traitant d'autres sujets que ce que l'on recherche, ces documents obtiendront un meilleur score que ceux traitant du sujet mais contenant moins d'occurrences du terme polysémique. Une solution est d'augmenter la couverture des termes du vocabulaire en prenant en compte, dans la représentation vectorielle des documents de la requête, les termes synonymes de ceux apparaissant dans les documents et la requête. Un moyen simple pour cela consiste à définir une matrice de similarité $W$ entre les termes et de projeter les documents et la requête sur cette matrice avant de calculer leurs scores. Pour notre exemple, considérons la matrice de similarité entre les termes suivante :\n",
    "\n",
    "$$\\begin{pmatrix}\n",
    "0.5 & 0.1 & 0 & 0 & 0.4 & 0 & 0 \\\\\n",
    "0.1 & 0.5 & 0.05 & 0.05 & 0.1 & 0.1 & 0.1 \\\\\n",
    "0 & 0.05 & 0.95 & 0 & 0 & 0 & 0 \\\\\n",
    "0 & 0.05 & 0 & 0.8 & 0 & 0.05 &  0.1 \\\\\n",
    "0.4 & 0.1 & 0 & 0 & 0.5 & 0 & 0 \\\\\n",
    "0 & 0.1 & 0 & 0.05 & 0 & 0.55 & 0.3 \\\\\n",
    "0 & 0.1 & 0 & 0.1 & 0 & 0.3 & 0.5\n",
    "\\end{pmatrix}$$\n",
    "\n",
    "\n",
    "**3. Quelles sont les nouvelles représentations des documents $d_1$, $d_2$ et $d_3$ ainsi que de la requête $q$ ? Calculer les nouveaux scores produits scalaires entre ces documents et $q$ et ordonner ces derniers par rapport à ces scores. Conclure.**\n",
    "\n"
   ]
  },
  {
   "cell_type": "markdown",
   "metadata": {},
   "source": [
    "**4. Si on suppose que les termes qui apparaissent dans les mêmes documents avec les mêmes fréquences sont sémantiquement similaires, donner un moyen simple de calculer la matrice de similarité entre termes, $W$.**"
   ]
  },
  {
   "cell_type": "markdown",
   "metadata": {
    "colab_type": "text",
    "id": "-wuYzeBDj_up"
   },
   "source": [
    "\n",
    "## Partie 2  : Mise en oeuvre sur la collection TIME"
   ]
  },
  {
   "cell_type": "markdown",
   "metadata": {
    "colab": {},
    "colab_type": "code",
    "id": "ryYW_jd5j_uq"
   },
   "source": [
    "Dans cette partie, il s'agit de mettre en oeuvre les différents modèles de recherche sur la collection TIME en utilisant la représentation de la collection sous la forme d'un index inversé et les différents algorithmes vus en cours.\n"
   ]
  },
  {
   "cell_type": "markdown",
   "metadata": {},
   "source": [
    "Charger l'index inversé de la collection TIME construit et sauvegardé sous la forme d'un fichier dans le LAB1."
   ]
  },
  {
   "cell_type": "code",
   "execution_count": null,
   "metadata": {},
   "outputs": [],
   "source": [
    "# A completer"
   ]
  },
  {
   "cell_type": "markdown",
   "metadata": {},
   "source": [
    "#### Modèle booléen\n",
    "\n",
    "**Représentation des requêtes**\n",
    "\n",
    "Une des premières étapes pour la mise en oeuvre du modèle booléen est la représentation d'une requête. En effet, dans le modèle booléen, les requêtes sont des expressions booléennes pouvant être définies à l'aide des opérateurs logiques `OR`, `NOT` et `AND` comme par exemple la requête ` U.S AND War OR France`.  Nous avons vu dans le cours qu'il pouvait être intéressant de représenter les requêtes par leur [forme normale conjonctive](https://fr.wikipedia.org/wiki/Forme_normale_conjonctive) (conjonction de disjonctions) afin d'optimiser leur traitement à l'aide de l'index inversé. Dans la suite, nous supposerons donc que les requêtes sont exprimées souc cette forme. **Quelle structure de données informatique proposez-vous pour representer une requête sous forme normale conjonctive et faciliter son traitement?**\n",
    "\n",
    "Indice :\n",
    "\n",
    "\n",
    "<img src=\"./Figures/booleantree.png\" width=\"500\" height=\"500\" />\n",
    "\n",
    "\n",
    "A partir de cette représentation, quelle stratégie mettre en place pour évaluer l'expression booléenne associée?\n",
    "\n",
    "Une manière de faire pourrait être de récupérer les littéraux `U.S`et `France `et de leur appliquer l'opérateur `OR` puis de récupérer le littéral `War`de lui appliquer `NOT` et enfin d'appliquer l'opérateur `AND` aux deux résultats des évaluations précédentes. Si on écrit la formule selon cette stratégie, on obtient :\n",
    "` U.S France OR War NOT AND`. \n",
    "Cela correspond à la notation post-fixe de la formule. Cette notation, aussi connue sous le nom de [notation polonaise inversée](https://fr.wikipedia.org/wiki/Notation_polonaise_inverse) (en hommage à son créateur Jan Łukasiewicz grand logicien et philosophe polonais) est très pratique pour l'évaluation de la formule. Elle permet aussi de ne pas utiliser de parenthèses sans ambiguité.\n"
   ]
  },
  {
   "cell_type": "markdown",
   "metadata": {},
   "source": [
    "Transformer une expression en sa représentation sous forme d'arbre ou en sa notation post-fixe est un beau problème d'algorithmique et de programmation et vous pourrez y reflechir à la maison. Dans le Lab, nous éviter de passer trop de temps sur cette question, nous utiliserons la bibliothèque (tt)[http://tt.brianwel.ch/en/latest/index.html] qui permet de travailler avec des expressions en logique booléenne en python."
   ]
  },
  {
   "cell_type": "markdown",
   "metadata": {},
   "source": [
    "Installer la bibliothéque en executant la commande ci-dessous.\n"
   ]
  },
  {
   "cell_type": "code",
   "execution_count": null,
   "metadata": {},
   "outputs": [],
   "source": [
    "!pip install ttable"
   ]
  },
  {
   "cell_type": "markdown",
   "metadata": {},
   "source": [
    "Le code ci-dessous vous permet de transformer une requête exprimée sous la forme d'une chaîne de caractères en une formule booléeen."
   ]
  },
  {
   "cell_type": "code",
   "execution_count": null,
   "metadata": {},
   "outputs": [],
   "source": [
    "from tt import BooleanExpression\n",
    "\n",
    "b = BooleanExpression('(War or France) and (not C)')\n",
    "print(b)   "
   ]
  },
  {
   "cell_type": "markdown",
   "metadata": {},
   "source": [
    "L'instruction ci-dessous permet de récupérer l'arbre représentant la formule"
   ]
  },
  {
   "cell_type": "code",
   "execution_count": null,
   "metadata": {},
   "outputs": [],
   "source": [
    "b.tree\n",
    "print(b.tree)"
   ]
  },
  {
   "cell_type": "markdown",
   "metadata": {},
   "source": [
    "Il est aussi possible de récupérer l'ensemble des tokens avec l'instruction ci-dessous."
   ]
  },
  {
   "cell_type": "code",
   "execution_count": null,
   "metadata": {},
   "outputs": [],
   "source": [
    " b.tokens"
   ]
  },
  {
   "cell_type": "markdown",
   "metadata": {},
   "source": [
    "De même, il est possible de récupérer l'ensemble des tokens dans l'ordre post-fixe."
   ]
  },
  {
   "cell_type": "code",
   "execution_count": null,
   "metadata": {},
   "outputs": [],
   "source": [
    "b.postfix_tokens"
   ]
  },
  {
   "cell_type": "markdown",
   "metadata": {},
   "source": [
    "Dans la suite, on considérera donc deux cas:\n",
    "\n",
    "+ 1er cas : les requêtes sont fournies en langage naturel comme par exemple dans le fichier [TIME.QUE](./Data/Time/TIME.QUE) fournis avec la collection TIME et il faudra donc transformer cette requête en expression logique. En particulier, on considèrera que l'espace correspond à l'opérateur `AND`. Par exemple, la requête `KENNEDY ADMINISTRATION PRESSURE` correspond à la requête `kennedy AND administration AND pressure`. \n",
    "\n",
    "Ecrire une fonction `def transformation_query_to_boolean(query)` qui permet de transformer une requête en langage naturel sous sa forme logique.\n"
   ]
  },
  {
   "cell_type": "code",
   "execution_count": null,
   "metadata": {},
   "outputs": [],
   "source": [
    "def transformation_query_to_boolean(query):\n",
    "    \n",
    "    # A completer\n",
    "    return boolean_query\n"
   ]
  },
  {
   "cell_type": "markdown",
   "metadata": {},
   "source": [
    " + 2ème cas : les requêtes sont fournies comme une expression logique (par exemple `'(War or France) and (not C)'`) et il s'agit de la transformer sous une forme post-fixe pour son evaluation.\n",
    "\n",
    "En utilisant la bibliothèque `tt` comme montré précedemment, ecrire une fonction permettant de transformer une requête en son ensemble de tokens ordonnés par ordre préfixe.\n"
   ]
  },
  {
   "cell_type": "code",
   "execution_count": null,
   "metadata": {},
   "outputs": [],
   "source": [
    "# A completer"
   ]
  },
  {
   "cell_type": "markdown",
   "metadata": {},
   "source": [
    "**Traitement des requêtes**"
   ]
  },
  {
   "cell_type": "markdown",
   "metadata": {},
   "source": [
    "Ecrire une fonction `def processing_boolean_query(query, inverted_index)` qui permet de renvoyer la liste de documents pertinents pour la requête query. Quelques indications pour vous aider :\n",
    " + L'utilisation d'une structure de données [Pile](https://docs.python.org/3/tutorial/datastructures.html#using-lists-as-stacks) et de la notation polonaise inversée peut être utile pour l'évaluation de la requête complète.\n",
    " + Revoir le cours 1 sur le modèle booléen pour l'utilisation de l'index inversé dans ce cas."
   ]
  },
  {
   "cell_type": "code",
   "execution_count": null,
   "metadata": {},
   "outputs": [],
   "source": [
    "def processing_boolean_query(query, inverted_index):\n",
    "    relevant_docs = {}\n",
    "    # A completer\n",
    "    return relevant_docs"
   ]
  },
  {
   "cell_type": "markdown",
   "metadata": {},
   "source": [
    "#### Modèle vectoriel\n",
    "\n",
    "**Représentation des requêtes**\n",
    "\n",
    "\n"
   ]
  },
  {
   "cell_type": "markdown",
   "metadata": {},
   "source": [
    "Dans le modèle vectoriel, les requêtes et les documents ont le même de représentation, un vecteur pondéré dans l'espace des termes d'indexation. "
   ]
  },
  {
   "cell_type": "markdown",
   "metadata": {},
   "source": [
    "**Traitement des requêtes**\n",
    "\n",
    "Ecrire une fonction `def processing_vectorial_query(query, inverted_index)` qui permet de renvoyer la liste de documents pertinents, ordonnés par pertinence, pour la requête query. Vous pourrez pour cela vous apputer sur l'algorithme décrit dans le cours 1, slide 136\n"
   ]
  },
  {
   "cell_type": "code",
   "execution_count": null,
   "metadata": {},
   "outputs": [],
   "source": [
    "def processing_vectorial_query(query, inverted_index):\n",
    "    ordered_relevant_docs = {}\n",
    "    # a completer\n",
    "    return ordered_relevant_docs"
   ]
  }
 ],
 "metadata": {
  "colab": {
   "name": "Lab2_ModelesDeRecherche.ipynb",
   "provenance": [],
   "version": "0.3.2"
  },
  "kernelspec": {
   "display_name": "Python 3",
   "language": "python",
   "name": "python3"
  },
  "language_info": {
   "codemirror_mode": {
    "name": "ipython",
    "version": 3
   },
   "file_extension": ".py",
   "mimetype": "text/x-python",
   "name": "python",
   "nbconvert_exporter": "python",
   "pygments_lexer": "ipython3",
   "version": "3.6.8"
  }
 },
 "nbformat": 4,
 "nbformat_minor": 1
}
